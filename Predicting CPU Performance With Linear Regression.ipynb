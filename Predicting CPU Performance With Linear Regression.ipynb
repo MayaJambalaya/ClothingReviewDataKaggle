{
  "nbformat": 4,
  "nbformat_minor": 0,
  "metadata": {
    "colab": {
      "provenance": [],
      "collapsed_sections": [],
      "include_colab_link": true
    },
    "kernelspec": {
      "name": "python3",
      "display_name": "Python 3"
    },
    "language_info": {
      "name": "python"
    }
  },
  "cells": [
    {
      "cell_type": "markdown",
      "metadata": {
        "id": "view-in-github",
        "colab_type": "text"
      },
      "source": [
        "<a href=\"https://colab.research.google.com/github/MayaJambalaya/ClothingReviewDataKaggle/blob/main/Predicting%20CPU%20Performance%20With%20Linear%20Regression.ipynb\" target=\"_parent\"><img src=\"https://colab.research.google.com/assets/colab-badge.svg\" alt=\"Open In Colab\"/></a>"
      ]
    },
    {
      "cell_type": "code",
      "source": [
        "#Charles Wallis\n",
        "#Maya Seale\n",
        "#CS 4372\n",
        "#Assignment 1"
      ],
      "metadata": {
        "id": "rkZl9ENHS-P1"
      },
      "execution_count": null,
      "outputs": []
    },
    {
      "cell_type": "code",
      "execution_count": 1,
      "metadata": {
        "id": "Cu51iENKe3Iy"
      },
      "outputs": [],
      "source": [
        "from sklearn.preprocessing import scale\n",
        "from sklearn.model_selection import train_test_split\n",
        "from sklearn.linear_model import SGDRegressor # Scikit Learn - Stochastic Gradient Descent\n",
        "from sklearn.model_selection import cross_val_score\n",
        "from sklearn.metrics import mean_squared_error\n",
        "import seaborn as sns\n",
        "import matplotlib.pyplot as plt \n",
        "import warnings\n",
        "warnings.filterwarnings(\"ignore\")  "
      ]
    },
    {
      "cell_type": "code",
      "source": [
        "bComputerHardware = True"
      ],
      "metadata": {
        "id": "4tmgV11Ngvo1"
      },
      "execution_count": 2,
      "outputs": []
    },
    {
      "cell_type": "code",
      "source": [
        "# https://www.24tutorials.com/machine-learning/multivariate-linear-regression/\n",
        "# web site shows method using another library: linear_model.LinearRegression()\n",
        "if(bComputerHardware):    \n",
        "    import pandas as pd\n",
        "    url = 'https://archive.ics.uci.edu/ml/machine-learning-databases/cpu-performance/machine.data'\n",
        "    df = pd.read_csv(url, header=None)\n",
        "    df.columns = [\"vendor name\", \"Model Name\", \"MYCT\", \"MMIN\", \"MMAX\", \"CACH\", \"CHMIN\", \"CHMAX\", \"PRP\", \"ERP\"]\n",
        "\n",
        "    s=\"\"\"\n",
        "     Attribute Information:\n",
        "     1. vendor name: 30\n",
        "     2. Model Name: unique symbols\n",
        "     3. MYCT: machine cycle time in nanoseconds (integer)\n",
        "     4. MMIN: minimum main memory in kilobytes (integer)\n",
        "     5. MMAX: maximum main memory in kilobytes (integer)\n",
        "     6. CACH: cache memory in kilobytes (integer)\n",
        "     7. CHMIN: minimum channels in units (integer)\n",
        "     8. CHMAX: maximum channels in units (integer)\n",
        "     9. PRP: published relative performance (integer)\n",
        "    10. ERP: estimated relative performance from the original article (integer)\n",
        "    \"\"\"\n",
        "    # Select the predictor and target variables\n",
        "    df.info\n",
        "    categorical_ = df.iloc[:,:2] # vendor, name\n",
        "    \n",
        "    numerical_   = df.iloc[:,2:] # numbers\n",
        "    slim = df[\"MYCT\",\"MMIN\", \"MMAX\",\"CHMAX\", \"PRP\"]\n",
        "\n",
        "    x = numerical_.iloc[:,:-1] # all \\erp\n",
        "    y = numerical_.iloc[:,-1] #erp\n",
        "    \n",
        "\n",
        "\n",
        "    \n"
      ],
      "metadata": {
        "id": "kVUnAfEIg4QE",
        "colab": {
          "base_uri": "https://localhost:8080/",
          "height": 514
        },
        "outputId": "595d7960-e020-445a-b3f7-62326f5fad3e"
      },
      "execution_count": 3,
      "outputs": [
        {
          "output_type": "error",
          "ename": "KeyError",
          "evalue": "ignored",
          "traceback": [
            "\u001b[0;31m---------------------------------------------------------------------------\u001b[0m",
            "\u001b[0;31mKeyError\u001b[0m                                  Traceback (most recent call last)",
            "\u001b[0;32m/usr/local/lib/python3.7/dist-packages/pandas/core/indexes/base.py\u001b[0m in \u001b[0;36mget_loc\u001b[0;34m(self, key, method, tolerance)\u001b[0m\n\u001b[1;32m   3360\u001b[0m             \u001b[0;32mtry\u001b[0m\u001b[0;34m:\u001b[0m\u001b[0;34m\u001b[0m\u001b[0;34m\u001b[0m\u001b[0m\n\u001b[0;32m-> 3361\u001b[0;31m                 \u001b[0;32mreturn\u001b[0m \u001b[0mself\u001b[0m\u001b[0;34m.\u001b[0m\u001b[0m_engine\u001b[0m\u001b[0;34m.\u001b[0m\u001b[0mget_loc\u001b[0m\u001b[0;34m(\u001b[0m\u001b[0mcasted_key\u001b[0m\u001b[0;34m)\u001b[0m\u001b[0;34m\u001b[0m\u001b[0;34m\u001b[0m\u001b[0m\n\u001b[0m\u001b[1;32m   3362\u001b[0m             \u001b[0;32mexcept\u001b[0m \u001b[0mKeyError\u001b[0m \u001b[0;32mas\u001b[0m \u001b[0merr\u001b[0m\u001b[0;34m:\u001b[0m\u001b[0;34m\u001b[0m\u001b[0;34m\u001b[0m\u001b[0m\n",
            "\u001b[0;32m/usr/local/lib/python3.7/dist-packages/pandas/_libs/index.pyx\u001b[0m in \u001b[0;36mpandas._libs.index.IndexEngine.get_loc\u001b[0;34m()\u001b[0m\n",
            "\u001b[0;32m/usr/local/lib/python3.7/dist-packages/pandas/_libs/index.pyx\u001b[0m in \u001b[0;36mpandas._libs.index.IndexEngine.get_loc\u001b[0;34m()\u001b[0m\n",
            "\u001b[0;32mpandas/_libs/hashtable_class_helper.pxi\u001b[0m in \u001b[0;36mpandas._libs.hashtable.PyObjectHashTable.get_item\u001b[0;34m()\u001b[0m\n",
            "\u001b[0;32mpandas/_libs/hashtable_class_helper.pxi\u001b[0m in \u001b[0;36mpandas._libs.hashtable.PyObjectHashTable.get_item\u001b[0;34m()\u001b[0m\n",
            "\u001b[0;31mKeyError\u001b[0m: ('MYCT', 'MMIN', 'MMAX', 'CHMAX', 'PRP')",
            "\nThe above exception was the direct cause of the following exception:\n",
            "\u001b[0;31mKeyError\u001b[0m                                  Traceback (most recent call last)",
            "\u001b[0;32m<ipython-input-3-632edc42b913>\u001b[0m in \u001b[0;36m<module>\u001b[0;34m\u001b[0m\n\u001b[1;32m     25\u001b[0m \u001b[0;34m\u001b[0m\u001b[0m\n\u001b[1;32m     26\u001b[0m     \u001b[0mnumerical_\u001b[0m   \u001b[0;34m=\u001b[0m \u001b[0mdf\u001b[0m\u001b[0;34m.\u001b[0m\u001b[0miloc\u001b[0m\u001b[0;34m[\u001b[0m\u001b[0;34m:\u001b[0m\u001b[0;34m,\u001b[0m\u001b[0;36m2\u001b[0m\u001b[0;34m:\u001b[0m\u001b[0;34m]\u001b[0m \u001b[0;31m# numbers\u001b[0m\u001b[0;34m\u001b[0m\u001b[0;34m\u001b[0m\u001b[0m\n\u001b[0;32m---> 27\u001b[0;31m     \u001b[0mslim\u001b[0m \u001b[0;34m=\u001b[0m \u001b[0mdf\u001b[0m\u001b[0;34m[\u001b[0m\u001b[0;34m\"MYCT\"\u001b[0m\u001b[0;34m,\u001b[0m\u001b[0;34m\"MMIN\"\u001b[0m\u001b[0;34m,\u001b[0m \u001b[0;34m\"MMAX\"\u001b[0m\u001b[0;34m,\u001b[0m\u001b[0;34m\"CHMAX\"\u001b[0m\u001b[0;34m,\u001b[0m \u001b[0;34m\"PRP\"\u001b[0m\u001b[0;34m]\u001b[0m\u001b[0;34m\u001b[0m\u001b[0;34m\u001b[0m\u001b[0m\n\u001b[0m\u001b[1;32m     28\u001b[0m \u001b[0;34m\u001b[0m\u001b[0m\n\u001b[1;32m     29\u001b[0m     \u001b[0mx\u001b[0m \u001b[0;34m=\u001b[0m \u001b[0mnumerical_\u001b[0m\u001b[0;34m.\u001b[0m\u001b[0miloc\u001b[0m\u001b[0;34m[\u001b[0m\u001b[0;34m:\u001b[0m\u001b[0;34m,\u001b[0m\u001b[0;34m:\u001b[0m\u001b[0;34m-\u001b[0m\u001b[0;36m1\u001b[0m\u001b[0;34m]\u001b[0m \u001b[0;31m# all \\erp\u001b[0m\u001b[0;34m\u001b[0m\u001b[0;34m\u001b[0m\u001b[0m\n",
            "\u001b[0;32m/usr/local/lib/python3.7/dist-packages/pandas/core/frame.py\u001b[0m in \u001b[0;36m__getitem__\u001b[0;34m(self, key)\u001b[0m\n\u001b[1;32m   3456\u001b[0m             \u001b[0;32mif\u001b[0m \u001b[0mself\u001b[0m\u001b[0;34m.\u001b[0m\u001b[0mcolumns\u001b[0m\u001b[0;34m.\u001b[0m\u001b[0mnlevels\u001b[0m \u001b[0;34m>\u001b[0m \u001b[0;36m1\u001b[0m\u001b[0;34m:\u001b[0m\u001b[0;34m\u001b[0m\u001b[0;34m\u001b[0m\u001b[0m\n\u001b[1;32m   3457\u001b[0m                 \u001b[0;32mreturn\u001b[0m \u001b[0mself\u001b[0m\u001b[0;34m.\u001b[0m\u001b[0m_getitem_multilevel\u001b[0m\u001b[0;34m(\u001b[0m\u001b[0mkey\u001b[0m\u001b[0;34m)\u001b[0m\u001b[0;34m\u001b[0m\u001b[0;34m\u001b[0m\u001b[0m\n\u001b[0;32m-> 3458\u001b[0;31m             \u001b[0mindexer\u001b[0m \u001b[0;34m=\u001b[0m \u001b[0mself\u001b[0m\u001b[0;34m.\u001b[0m\u001b[0mcolumns\u001b[0m\u001b[0;34m.\u001b[0m\u001b[0mget_loc\u001b[0m\u001b[0;34m(\u001b[0m\u001b[0mkey\u001b[0m\u001b[0;34m)\u001b[0m\u001b[0;34m\u001b[0m\u001b[0;34m\u001b[0m\u001b[0m\n\u001b[0m\u001b[1;32m   3459\u001b[0m             \u001b[0;32mif\u001b[0m \u001b[0mis_integer\u001b[0m\u001b[0;34m(\u001b[0m\u001b[0mindexer\u001b[0m\u001b[0;34m)\u001b[0m\u001b[0;34m:\u001b[0m\u001b[0;34m\u001b[0m\u001b[0;34m\u001b[0m\u001b[0m\n\u001b[1;32m   3460\u001b[0m                 \u001b[0mindexer\u001b[0m \u001b[0;34m=\u001b[0m \u001b[0;34m[\u001b[0m\u001b[0mindexer\u001b[0m\u001b[0;34m]\u001b[0m\u001b[0;34m\u001b[0m\u001b[0;34m\u001b[0m\u001b[0m\n",
            "\u001b[0;32m/usr/local/lib/python3.7/dist-packages/pandas/core/indexes/base.py\u001b[0m in \u001b[0;36mget_loc\u001b[0;34m(self, key, method, tolerance)\u001b[0m\n\u001b[1;32m   3361\u001b[0m                 \u001b[0;32mreturn\u001b[0m \u001b[0mself\u001b[0m\u001b[0;34m.\u001b[0m\u001b[0m_engine\u001b[0m\u001b[0;34m.\u001b[0m\u001b[0mget_loc\u001b[0m\u001b[0;34m(\u001b[0m\u001b[0mcasted_key\u001b[0m\u001b[0;34m)\u001b[0m\u001b[0;34m\u001b[0m\u001b[0;34m\u001b[0m\u001b[0m\n\u001b[1;32m   3362\u001b[0m             \u001b[0;32mexcept\u001b[0m \u001b[0mKeyError\u001b[0m \u001b[0;32mas\u001b[0m \u001b[0merr\u001b[0m\u001b[0;34m:\u001b[0m\u001b[0;34m\u001b[0m\u001b[0;34m\u001b[0m\u001b[0m\n\u001b[0;32m-> 3363\u001b[0;31m                 \u001b[0;32mraise\u001b[0m \u001b[0mKeyError\u001b[0m\u001b[0;34m(\u001b[0m\u001b[0mkey\u001b[0m\u001b[0;34m)\u001b[0m \u001b[0;32mfrom\u001b[0m \u001b[0merr\u001b[0m\u001b[0;34m\u001b[0m\u001b[0;34m\u001b[0m\u001b[0m\n\u001b[0m\u001b[1;32m   3364\u001b[0m \u001b[0;34m\u001b[0m\u001b[0m\n\u001b[1;32m   3365\u001b[0m         \u001b[0;32mif\u001b[0m \u001b[0mis_scalar\u001b[0m\u001b[0;34m(\u001b[0m\u001b[0mkey\u001b[0m\u001b[0;34m)\u001b[0m \u001b[0;32mand\u001b[0m \u001b[0misna\u001b[0m\u001b[0;34m(\u001b[0m\u001b[0mkey\u001b[0m\u001b[0;34m)\u001b[0m \u001b[0;32mand\u001b[0m \u001b[0;32mnot\u001b[0m \u001b[0mself\u001b[0m\u001b[0;34m.\u001b[0m\u001b[0mhasnans\u001b[0m\u001b[0;34m:\u001b[0m\u001b[0;34m\u001b[0m\u001b[0;34m\u001b[0m\u001b[0m\n",
            "\u001b[0;31mKeyError\u001b[0m: ('MYCT', 'MMIN', 'MMAX', 'CHMAX', 'PRP')"
          ]
        }
      ]
    },
    {
      "cell_type": "code",
      "source": [
        "\n",
        "\n",
        "if(bComputerHardware):    \n",
        "    print(df.to_string())"
      ],
      "metadata": {
        "id": "UVnCJBQnhA_L"
      },
      "execution_count": null,
      "outputs": []
    },
    {
      "cell_type": "code",
      "source": [
        "print([\"lengths of x, y\",len(x),len(y)])"
      ],
      "metadata": {
        "id": "KBeYXKlLh_00"
      },
      "execution_count": null,
      "outputs": []
    },
    {
      "cell_type": "code",
      "source": [
        "if(True):\n",
        "    # improve the model accuracy we'll scale both x and y data then, split them into train and test parts. \n",
        "    # Here, we'll extract 15 percent of the samples as test data.\n",
        "\n",
        "    # https://scikit-learn.org/stable/modules/generated/sklearn.preprocessing.scale.html\n",
        "    #  https://scikit-learn.org/stable/modules/preprocessing.html#preprocessing-scaler\n",
        "    #  Standardize a dataset along any axis.\n",
        "    #  Center to the mean and component wise scale to unit variance.\n",
        "    #   transform the data to center it by removing the mean value of each feature, \n",
        "    #   then scale it by dividing non-constant features by their standard deviation.\n",
        "    x = scale(x) # , axis=0, with_mean=True, with_std=True, copy=True [defaults]\n",
        "    y = scale(y) # , axis=0, with_mean=True, with_std=True, copy=True [defaults]\n",
        "    # https://scikit-learn.org/stable/modules/generated/sklearn.model_selection.train_test_split.html\n",
        "    #  Split arrays or matrices into random train and test subsets.\n",
        "    xtrain, xtest, ytrain, ytest=train_test_split(x, y, test_size=0.15)\n",
        "    # test_size: If float, should be between 0.0 and 1.0 and represent the proportion of the dataset to include in the test split.\n",
        "    # If int, represents the absolute number of test samples. \n",
        "    # If None, the value is set to the complement of the train size. If train_size is also None, it will be set to 0.25.\n",
        "\n",
        "    "
      ],
      "metadata": {
        "id": "uC1Sc3xWiDRb"
      },
      "execution_count": null,
      "outputs": []
    },
    {
      "cell_type": "code",
      "source": [
        "print([\"lengths of xtrain, xtest, ytrain, ytest\",len(xtrain),len(xtest),len(ytrain),len(ytest)])"
      ],
      "metadata": {
        "id": "oi7lX0qtiFFa",
        "colab": {
          "base_uri": "https://localhost:8080/"
        },
        "outputId": "947b13a9-7134-4f69-a1e8-4cda05fed7e9"
      },
      "execution_count": null,
      "outputs": [
        {
          "output_type": "stream",
          "name": "stdout",
          "text": [
            "['lengths of xtrain, xtest, ytrain, ytest', 177, 32, 177, 32]\n"
          ]
        }
      ]
    },
    {
      "cell_type": "code",
      "source": [
        "def callSGDRegressor(xtrain, xtest, ytrain, ytest, loss = 'squared_loss', penalty = 'l2', alpha = 0.0001, l1_ratio = 0.15, fit_intercept = True, \n",
        "                     max_iter = 1000, tol = 1e-3, shuffle = True, verbose = 0, epsilon = 0.1, random_state = None, \n",
        "                     learning_rate = 'invscaling', eta0 = 0.01, power_t = 0.25, early_stopping = False, \n",
        "                     validation_fraction = 0.1, n_iter_no_change = 5, warm_start = False, average = False,\n",
        "                    bShow = False):\n",
        "    # https://scikit-learn.org/stable/modules/generated/sklearn.linear_model.SGDRegressor.html\n",
        "    #Next, we'll define the regressor model by using the SGDRegressor class. \n",
        "    #Here, we can use default parameters of the SGDRegressor class.\n",
        "    sgdr = SGDRegressor(\n",
        "     loss = loss, # The loss function to be used. The possible values are ‘squared_error’, ‘huber’, ‘epsilon_insensitive’, or ‘squared_epsilon_insensitive’\n",
        "     penalty = penalty, # The penalty (aka regularization term) to be used. Defaults to ‘l2’ which is the standard regularizer for linear SVM models. ‘l1’ and ‘elasticnet’ might bring sparsity to the model (feature selection) not achievable with ‘l2’.\n",
        "     alpha = alpha, # Constant that multiplies the regularization term. The higher the value, the stronger the regularization. Also used to compute the learning rate when set to learning_rate is set to ‘optimal’.\n",
        "     l1_ratio = l1_ratio, # The Elastic Net mixing parameter, with 0 <= l1_ratio <= 1. l1_ratio=0 corresponds to L2 penalty, l1_ratio=1 to L1. Only used if penalty is ‘elasticnet’.\n",
        "     fit_intercept = fit_intercept, # Whether the intercept should be estimated or not. If False, the data is assumed to be already centered.\n",
        "     max_iter = max_iter, # The maximum number of passes over the training data (aka epochs). It only impacts the behavior in the fit method, and not the partial_fit method.\n",
        "     tol = tol, # The stopping criterion. If it is not None, training will stop when (loss > best_loss - tol) for n_iter_no_change consecutive epochs. Convergence is checked against the training loss or the validation loss depending on the early_stopping parameter.\n",
        "     shuffle = shuffle, # Whether or not the training data should be shuffled after each epoch.\n",
        "     verbose = verbose, # The verbosity level.\n",
        "     epsilon = epsilon, # Epsilon in the epsilon-insensitive loss functions; only if loss is ‘huber’, ‘epsilon_insensitive’, or ‘squared_epsilon_insensitive’. For ‘huber’, determines the threshold at which it becomes less important to get the prediction exactly right. For epsilon-insensitive, any differences between the current prediction and the correct label are ignored if they are less than this threshold.\n",
        "     random_state = random_state, # Used for shuffling the data, when shuffle is set to True. Pass an int for reproducible output across multiple function calls. See Glossary.\n",
        "     learning_rate = learning_rate, # The learning rate schedule:\n",
        "     eta0 = eta0, # The initial learning rate for the ‘constant’, ‘invscaling’ or ‘adaptive’ schedules. The default value is 0.01.\n",
        "     power_t = power_t, # The exponent for inverse scaling learning rate.\n",
        "     early_stopping = early_stopping, # Whether to use early stopping to terminate training when validation score is not improving. If set to True, it will automatically set aside a fraction of training data as validation and terminate training when validation score returned by the score method is not improving by at least tol for n_iter_no_change consecutive epochs.\n",
        "     validation_fraction = validation_fraction, # The proportion of training data to set aside as validation set for early stopping. Must be between 0 and 1. Only used if early_stopping is True.\n",
        "     n_iter_no_change = n_iter_no_change, # Number of iterations with no improvement to wait before stopping fitting. Convergence is checked against the training loss or the validation loss depending on the early_stopping parameter.\n",
        "     warm_start = warm_start, # When set to True, reuse the solution of the previous call to fit as initialization, otherwise, just erase the previous solution. See the Glossary.\n",
        "     average = average #When set to True, computes the averaged SGD weights across all updates and stores the result in the coef_ attribute. If set to an int greater than 1, averaging will begin once the total number of samples seen reaches average. So average=10 will begin averaging after seeing 10 samples.\n",
        "    )\n",
        "    if(bShow):\n",
        "        print(sgdr)\n",
        "\n",
        "    # https://scikit-learn.org/stable/modules/generated/sklearn.linear_model.SGDRegressor.html#sklearn.linear_model.SGDRegressor.fit\n",
        "    # Then, we'll fit the model on train data and check the model accuracy score.\n",
        "    sgdr.fit(xtrain, ytrain)               # Fit linear model with Stochastic Gradient Descent\n",
        "    \n",
        "    if(bShow):\n",
        "        # output: Fitted SGDRegressor estimator.\n",
        "        print([sgdr.coef_             ,\"Weights assigned to the features.\"])\n",
        "        print([sgdr.intercept_        ,\"The intercept term.\"])\n",
        "        print([sgdr.n_iter_             ,\"The actual number of iterations before reaching the stopping criterion.\"])\n",
        "        print([sgdr.t_                  ,\"Number of weight updates performed during training. Same as (n_iter_ * n_samples).\"])\n",
        "        print([sgdr.n_features_in_      ,\"Number of features seen during fit.\"])\n",
        "        #print([sgdr.feature_names_in_ ,\"Names of features seen during fit. Defined only when X has feature names that are all strings.\"])\n",
        "\n",
        "    score = sgdr.score(xtrain, ytrain)     # coefficient of determination of the prediction.\n",
        "    \n",
        "    if(bShow):\n",
        "        print(\"\")\n",
        "        print(\"R-squared:\", score)\n",
        "\n",
        "    # https://scikit-learn.org/stable/modules/generated/sklearn.model_selection.cross_val_score.html\n",
        "    #  https://scikit-learn.org/stable/modules/cross_validation.html#cross-validation\n",
        "    # Learning the parameters of a prediction function and testing it on the same data is a methodological mistake: \n",
        "    #  a model that would just repeat the labels of the samples that it has just seen would have a perfect score but \n",
        "    #  would fail to predict anything useful on yet-unseen data. This situation is called overfitting. To avoid it, \n",
        "    #  it is common practice when performing a (supervised) machine learning experiment to hold out part of the available \n",
        "    #  data as a test set X_test, y_test.\n",
        "    # cv, here: int, to specify the number of folds in a (Stratified)KFold\n",
        "    # apply a cross-validation method to the model and check the training accuracy. \n",
        "    cv_score = cross_val_score(sgdr, x, y, cv = 10)\n",
        "    if(bShow):\n",
        "        print(\"CV mean score: \", cv_score.mean()) #0.999999433353285...\n",
        "\n",
        "    #predict the test data by using the trained model. We can check the accuracy of predicted data by using MSE and RMSE metrics.\n",
        "    ypred = sgdr.predict(xtest)            # Predict using the linear model\n",
        "    mse = mean_squared_error(ytest, ypred)\n",
        "    \n",
        "    if(bShow):\n",
        "        print(\"MSE: \", mse)\n",
        "        print(\"RMSE: \", mse**(1/2.0)) \n",
        "    return sgdr, score, cv_score.mean(), mse, ypred"
      ],
      "metadata": {
        "id": "XAXs-0MuiHN7"
      },
      "execution_count": null,
      "outputs": []
    },
    {
      "cell_type": "code",
      "source": [
        "loss = 'squared_loss' # ‘squared_error’, ‘huber’, ‘epsilon_insensitive’, or ‘squared_epsilon_insensitive’\n",
        "penalty = 'l2'\n",
        "alpha = 0.0001  \n",
        "l1_ratio = 0.15  \n",
        "fit_intercept = True\n",
        "max_iter = 1000\n",
        "tol = 1e-3\n",
        "shuffle = True\n",
        "verbose = 0\n",
        "epsilon = 0.1\n",
        "random_state = None\n",
        "learning_rate = 'invscaling' # constant, optimal, invscaling, adaptive  \n",
        "eta0 = 0.01\n",
        "power_t = 0.25\n",
        "early_stopping = False\n",
        "validation_fraction = 0.1\n",
        "n_iter_no_change = 5\n",
        "warm_start = False\n",
        "average = False\n",
        "#\n",
        "#alpha, l1_ratio,  epsilon, max_iter, eta0, power_t, validation_fraction = [1.02132836e-04, 1.49983879e-01, 1.02328673e-01, 1.01034951e+03, 1.02628545e-02, 2.33399518e-01, 1.03040763e-01]\n",
        "#alpha, l1_ratio,  epsilon, max_iter, eta0, power_t, validation_fraction = [9.73415872e-05, 1.50376657e-01, 1.04955283e-01, 1.02562206e+03, 1.11264952e-02, 2.09379481e-01, 1.06404516e-01]\n",
        "#alpha, l1_ratio,  epsilon, max_iter, eta0, power_t, validation_fraction = [9.89090456e-05, 1.52079071e-01, 1.06586961e-01, 1.03938599e+03, 1.12852150e-02, 2.00775573e-01, 1.07030400e-01]\n",
        "#alpha, l1_ratio,  epsilon, max_iter, eta0, power_t, validation_fraction = [9.97190285e-05, 1.50439861e-01, 1.04882994e-01, 1.02577353e+03, 1.11330414e-02, 2.09474277e-01, 1.08973794e-01]\n",
        "#alpha, l1_ratio,  epsilon, max_iter, eta0, power_t, validation_fraction, tol = [1.00905194e-04, 1.50971014e-01, 1.06622600e-01, 1.02076055e+03, 1.11363027e-02, 2.06885446e-01, 1.06979654e-01, 1.00852787e-03]\n",
        "#alpha, l1_ratio,  epsilon, max_iter, eta0, power_t, validation_fraction, tol = [1.01600282e-04, 1.51316511e-01, 1.04955283e-01, 1.02562206e+03, 1.11264952e-02, 2.09379481e-01, 1.06404516e-01, 1.00000000e-03]\n",
        "#learning_rate = 'optimal'\n",
        "#converged:\n",
        "#alpha, l1_ratio,  epsilon, max_iter, eta0, power_t, validation_fraction, tol = [9.73585268e-05, 1.49953701e-01, 1.04878340e-01, 1.02701491e+03, 1.15860474e-02, 2.09266876e-01, 1.06565276e-01, 1.00046685e-03]\n",
        "#alpha, l1_ratio,  epsilon, max_iter, eta0, power_t, validation_fraction, tol = [9.81232842e-05, 1.50202943e-01, 1.04412324e-01, 1.03120065e+03, 1.11903798e-02, 2.07629796e-01, 1.06070372e-01, 1.04314203e-03]\n",
        "#alpha, l1_ratio,  epsilon, max_iter, eta0, power_t, validation_fraction, tol = [1.00744309e-04, 1.50930836e-01, 1.04917895e-01, 1.03619123e+03, 1.12006473e-02, 2.08065277e-01, 1.06584598e-01, 1.03902168e-03]\n",
        "alpha, l1_ratio,  epsilon, max_iter, eta0, power_t, validation_fraction, tol = [1.00696712e-04, 1.50862048e-01, 1.04871728e-01, 1.04862512e+03, 1.12037441e-02, 2.08151082e-01, 1.03153775e-01, 1.11318118e-03]\n",
        "learning_rate = 'adaptive'\n",
        "#alpha, l1_ratio,  epsilon, max_iter, eta0, power_t, validation_fraction, tol = [1.02879376e-04, 1.49584029e-01, 1.07141413e-01, 1.04722258e+03, 1.12509798e-02, 2.12474790e-01, 1.03287820e-01, 1.06104160e-03]\n",
        "#loss = 'epsilon_insensitive'\n",
        "\n",
        "\n",
        "sgdr, score, mean, mse, ypred = callSGDRegressor(xtrain, xtest, ytrain, ytest, loss, penalty, alpha, l1_ratio, fit_intercept, max_iter, tol, \n",
        "                                                     shuffle, verbose, epsilon, random_state, learning_rate, eta0, \n",
        "                                                     power_t, early_stopping, validation_fraction, n_iter_no_change, \n",
        "                                                     warm_start, average)\n",
        "\n",
        "dict = {**sgdr.get_params(), **{\"score\":score,\"mean\":mean,\"mse\":mse}}\n",
        "print(dict)\n",
        "print(f\"score: {score} \")\n",
        "print(f\"mean: {mean} \")\n",
        "print(f\"mse: {mse} \")\n",
        "\n",
        "\n",
        "c=\"\"\"  comments/notes:\n",
        "*=Nedler-Meade converged\n",
        "loss = 'squared_loss', learning_rate = 'invscaling':\n",
        "default={'alpha': 0.0001,         'average': False, 'early_stopping': False, 'epsilon': 0.1,         'eta0': 0.01,         'fit_intercept': True, 'l1_ratio': 0.15,        'learning_rate': 'invscaling', 'loss': 'squared_loss',        'max_iter': 1000,       'n_iter_no_change': 5, 'penalty': 'l2', 'power_t': 0.25,        'random_state': None, 'shuffle': True, 'tol': 0.001,         'validation_fraction': 0.1,         'verbose': 0, 'warm_start': False, 'score': 0.9594264087243313, 'mean': 0.6606159656203541, 'mse': 0.04044658017952761}\n",
        "optimal={'alpha': 0.000102132836, 'average': False, 'early_stopping': False, 'epsilon': 0.102328673, 'eta0': 0.0102628545, 'fit_intercept': True, 'l1_ratio': 0.149983879, 'learning_rate': 'invscaling', 'loss': 'squared_loss',        'max_iter': 1010.34951, 'n_iter_no_change': 5, 'penalty': 'l2', 'power_t': 0.233399518, 'random_state': None, 'shuffle': True, 'tol': 0.001,         'validation_fraction': 0.103040763, 'verbose': 0, 'warm_start': False, 'score': 0.9597660370655446, 'mean': 0.6441343757607012, 'mse': 0.04026165345005356}\n",
        "optimal={'alpha': 9.73415872e-05, 'average': False, 'early_stopping': False, 'epsilon': 0.104955283, 'eta0': 0.0111264952, 'fit_intercept': True, 'l1_ratio': 0.150376657, 'learning_rate': 'invscaling', 'loss': 'squared_loss',        'max_iter': 1025.62206, 'n_iter_no_change': 5, 'penalty': 'l2', 'power_t': 0.209379481, 'random_state': None, 'shuffle': True, 'tol': 0.001,         'validation_fraction': 0.106404516, 'verbose': 0, 'warm_start': False, 'score': 0.9607153215004253, 'mean': 0.6326239341357942, 'mse': 0.04065725251174039}\n",
        "optimal={'alpha': 9.89090456e-05, 'average': False, 'early_stopping': False, 'epsilon': 0.106586961, 'eta0': 0.011285215,  'fit_intercept': True, 'l1_ratio': 0.152079071, 'learning_rate': 'invscaling', 'loss': 'squared_loss',        'max_iter': 1039.38599, 'n_iter_no_change': 5, 'penalty': 'l2', 'power_t': 0.200775573, 'random_state': None, 'shuffle': True, 'tol': 0.001,         'validation_fraction': 0.1070304,   'verbose': 0, 'warm_start': False, 'score': 0.9614510203241439, 'mean': 0.6282661559224989, 'mse': 0.04041410839630097}\n",
        "optimal={'alpha': 9.97190285e-05, 'average': False, 'early_stopping': False, 'epsilon': 0.104882994, 'eta0': 0.0111330414, 'fit_intercept': True, 'l1_ratio': 0.150439861, 'learning_rate': 'invscaling', 'loss': 'squared_loss',        'max_iter': 1025.77353, 'n_iter_no_change': 5, 'penalty': 'l2', 'power_t': 0.209474277, 'random_state': None, 'shuffle': True, 'tol': 0.001,         'validation_fraction': 0.108973794, 'verbose': 0, 'warm_start': False, 'score': 0.9605606728837356, 'mean': 0.6079941345288642, 'mse': 0.04608516089186318}\n",
        "optimal={'alpha': 0.000100905194, 'average': False, 'early_stopping': False, 'epsilon': 0.1066226,   'eta0': 0.0111363027, 'fit_intercept': True, 'l1_ratio': 0.150971014, 'learning_rate': 'invscaling', 'loss': 'squared_loss',        'max_iter': 1020.76055, 'n_iter_no_change': 5, 'penalty': 'l2', 'power_t': 0.206885446, 'random_state': None, 'shuffle': True, 'tol': 0.00100852787, 'validation_fraction': 0.106979654, 'verbose': 0, 'warm_start': False, 'score': 0.9600528901757699, 'mean': 0.6301143751359457, 'mse': 0.05026273750712587}\n",
        "optimal={'alpha': 0.000101600282, 'average': False, 'early_stopping': False, 'epsilon': 0.104955283, 'eta0': 0.0111264952, 'fit_intercept': True, 'l1_ratio': 0.151316511, 'learning_rate': 'optimal',    'loss': 'squared_loss',        'max_iter': 1025.62206, 'n_iter_no_change': 5, 'penalty': 'l2', 'power_t': 0.209379481, 'random_state': None, 'shuffle': True, 'tol': 0.001,         'validation_fraction': 0.106404516, 'verbose': 0, 'warm_start': False, 'score': -1.218762970720909e+25, 'mean': -1.914332157343956e+26, 'mse': 1.4477882995163317e+25}\n",
        "loss = 'squared_loss', learning_rate = 'adaptive':\n",
        "*ptimal={'alpha': 9.73585268e-05, 'average': False, 'early_stopping': False, 'epsilon': 0.10487834,  'eta0': 0.0115860474, 'fit_intercept': True, 'l1_ratio': 0.149953701, 'learning_rate': 'adaptive',   'loss': 'squared_loss',        'max_iter': 1027.01491, 'n_iter_no_change': 5, 'penalty': 'l2', 'power_t': 0.209266876, 'random_state': None, 'shuffle': True, 'tol': 0.00100046685, 'validation_fraction': 0.106565276, 'verbose': 0, 'warm_start': False, 'score': 0.9641196034607564, 'mean': 0.6182303920005711, 'mse': 0.04906669375347357}\n",
        "*ptimal={'alpha': 9.81232842e-05, 'average': False, 'early_stopping': False, 'epsilon': 0.104412324, 'eta0': 0.0111903798, 'fit_intercept': True, 'l1_ratio': 0.150202943, 'learning_rate': 'adaptive',   'loss': 'squared_loss',        'max_iter': 1031.20065, 'n_iter_no_change': 5, 'penalty': 'l2', 'power_t': 0.207629796, 'random_state': None, 'shuffle': True, 'tol': 0.00104314203, 'validation_fraction': 0.106070372, 'verbose': 0, 'warm_start': False, 'score': 0.9641103408968433, 'mean': 0.6317846016151203, 'mse': 0.04794070051278644}\n",
        "*ptimal={'alpha': 0.000100744309, 'average': False, 'early_stopping': False, 'epsilon': 0.104917895, 'eta0': 0.0112006473, 'fit_intercept': True, 'l1_ratio': 0.150930836, 'learning_rate': 'adaptive',   'loss': 'squared_loss',        'max_iter': 1036.19123, 'n_iter_no_change': 5, 'penalty': 'l2', 'power_t': 0.208065277, 'random_state': None, 'shuffle': True, 'tol': 0.00103902168, 'validation_fraction': 0.106584598, 'verbose': 0, 'warm_start': False, 'score': 0.9640521805710532, 'mean': 0.6482915710187329, 'mse': 0.0471986246277355}\n",
        "*ptimal={'alpha': 0.000100696712, 'average': False, 'early_stopping': False, 'epsilon': 0.104871728, 'eta0': 0.0112037441, 'fit_intercept': True, 'l1_ratio': 0.150862048, 'learning_rate': 'adaptive',   'loss': 'squared_loss',        'max_iter': 1048.62512, 'n_iter_no_change': 5, 'penalty': 'l2', 'power_t': 0.208151082, 'random_state': None, 'shuffle': True, 'tol': 0.00111318118, 'validation_fraction': 0.103153775, 'verbose': 0, 'warm_start': False, 'score': 0.9640833980510953, 'mean': 0.614966315242768,  'mse': 0.04620248709696516}\n",
        "loss = 'epsilon_insensitive', learning_rate = 'adaptive':\n",
        "optimal={'alpha': 0.000102879376, 'average': False, 'early_stopping': False, 'epsilon': 0.107141413, 'eta0': 0.0112509798, 'fit_intercept': True, 'l1_ratio': 0.149584029, 'learning_rate': 'adaptive',   'loss': 'epsilon_insensitive', 'max_iter': 1047.22258, 'n_iter_no_change': 5, 'penalty': 'l2', 'power_t': 0.21247479,  'random_state': None, 'shuffle': True, 'tol': 0.0010610416,  'validation_fraction': 0.10328782,  'verbose': 0, 'warm_start': False, 'score': 0.9557186499365637, 'mean': 0.6904139326925565, 'mse': 0.029898866840594937}\n",
        "\n",
        "-->conclusion: increase default {max_iter}, decrease power_t, learning_rate = 'adaptive'\n",
        "power_t = The exponent for inverse scaling learning rate.\n",
        "\"\"\""
      ],
      "metadata": {
        "id": "PhQ3RTldiJDS",
        "colab": {
          "base_uri": "https://localhost:8080/"
        },
        "outputId": "b6702721-8108-4cbb-be68-83e900c63821"
      },
      "execution_count": null,
      "outputs": [
        {
          "output_type": "stream",
          "name": "stdout",
          "text": [
            "{'alpha': 0.000100696712, 'average': False, 'early_stopping': False, 'epsilon': 0.104871728, 'eta0': 0.0112037441, 'fit_intercept': True, 'l1_ratio': 0.150862048, 'learning_rate': 'adaptive', 'loss': 'squared_loss', 'max_iter': 1048.62512, 'n_iter_no_change': 5, 'penalty': 'l2', 'power_t': 0.208151082, 'random_state': None, 'shuffle': True, 'tol': 0.00111318118, 'validation_fraction': 0.103153775, 'verbose': 0, 'warm_start': False, 'score': 0.9609688761396002, 'mean': 0.6260319802554382, 'mse': 0.04079051099768221}\n",
            "score: 0.9609688761396002 \n",
            "mean: 0.6260319802554382 \n",
            "mse: 0.04079051099768221 \n"
          ]
        }
      ]
    },
    {
      "cell_type": "code",
      "source": [
        "import numpy as np\n",
        "import pandas as pd\n",
        "import matplotlib.pyplot as plt\n",
        "import statsmodels.api as sm\n",
        "from statsmodels.sandbox.regression.predstd import wls_prediction_std\n",
        " \n",
        "X_train_off = sm.add_constant(xtrain)\n",
        "smRegression = sm.OLS(ytrain, X_train_off)\n",
        " \n",
        "model = smRegression.fit()\n",
        "print(model.summary())\n",
        "\n",
        " \n",
        "ypred = model.predict(X_train_off)\n",
        "rmse = sm.tools.eval_measures.rmse(ytrain, ypred)\n",
        "fig = sm.graphics.plot_partregress_grid(model)\n",
        "\n",
        " "
      ],
      "metadata": {
        "id": "b6_9sJfCjtyy",
        "colab": {
          "base_uri": "https://localhost:8080/",
          "height": 856
        },
        "outputId": "e9a22f3b-523a-41ad-a05a-84e134d7b7d4"
      },
      "execution_count": null,
      "outputs": [
        {
          "output_type": "stream",
          "name": "stdout",
          "text": [
            "                            OLS Regression Results                            \n",
            "==============================================================================\n",
            "Dep. Variable:                      y   R-squared:                       0.964\n",
            "Model:                            OLS   Adj. R-squared:                  0.962\n",
            "Method:                 Least Squares   F-statistic:                     645.9\n",
            "Date:                Wed, 21 Sep 2022   Prob (F-statistic):          2.07e-118\n",
            "Time:                        04:53:03   Log-Likelihood:                 33.451\n",
            "No. Observations:                 177   AIC:                            -50.90\n",
            "Df Residuals:                     169   BIC:                            -25.49\n",
            "Df Model:                           7                                         \n",
            "Covariance Type:            nonrobust                                         \n",
            "==============================================================================\n",
            "                 coef    std err          t      P>|t|      [0.025      0.975]\n",
            "------------------------------------------------------------------------------\n",
            "const          0.0035      0.015      0.228      0.820      -0.027       0.034\n",
            "x1             0.0669      0.017      3.990      0.000       0.034       0.100\n",
            "x2             0.1727      0.031      5.586      0.000       0.112       0.234\n",
            "x3             0.2447      0.032      7.552      0.000       0.181       0.309\n",
            "x4             0.0376      0.021      1.770      0.078      -0.004       0.080\n",
            "x5            -0.0077      0.021     -0.373      0.710      -0.048       0.033\n",
            "x6             0.0635      0.024      2.605      0.010       0.015       0.112\n",
            "x7             0.6017      0.042     14.190      0.000       0.518       0.685\n",
            "==============================================================================\n",
            "Omnibus:                       25.545   Durbin-Watson:                   2.107\n",
            "Prob(Omnibus):                  0.000   Jarque-Bera (JB):              153.438\n",
            "Skew:                          -0.079   Prob(JB):                     4.80e-34\n",
            "Kurtosis:                       7.559   Cond. No.                         7.12\n",
            "==============================================================================\n",
            "\n",
            "Notes:\n",
            "[1] Standard Errors assume that the covariance matrix of the errors is correctly specified.\n"
          ]
        },
        {
          "output_type": "display_data",
          "data": {
            "text/plain": [
              "<Figure size 432x288 with 8 Axes>"
            ],
            "image/png": "[encoded data removed]"
          },
          "metadata": {
            "needs_background": "light"
          }
        }
      ]
    },
    {
      "cell_type": "code",
      "source": [],
      "metadata": {
        "id": "a6D20QRLN7F8"
      },
      "execution_count": null,
      "outputs": []
    }
  ]
}